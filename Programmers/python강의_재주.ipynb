{
  "nbformat": 4,
  "nbformat_minor": 0,
  "metadata": {
    "colab": {
      "name": "python강의_재주.ipynb",
      "private_outputs": true,
      "provenance": [],
      "collapsed_sections": [],
      "authorship_tag": "ABX9TyMzKZsgJEqzehruimVZBJY1",
      "include_colab_link": true
    },
    "kernelspec": {
      "name": "python3",
      "display_name": "Python 3"
    }
  },
  "cells": [
    {
      "cell_type": "markdown",
      "metadata": {
        "id": "view-in-github",
        "colab_type": "text"
      },
      "source": [
        "<a href=\"https://colab.research.google.com/github/KrGil/programmers_practice/blob/main/python%EA%B0%95%EC%9D%98_%EC%9E%AC%EC%A3%BC.ipynb\" target=\"_parent\"><img src=\"https://colab.research.google.com/assets/colab-badge.svg\" alt=\"Open In Colab\"/></a>"
      ]
    },
    {
      "cell_type": "code",
      "metadata": {
        "id": "UkHMFI53PA7D"
      },
      "source": [
        "a = 10 # 정수 - int\n",
        "b = 10.1 # 실수 - float\n",
        "c = '10' # 문자열 - str\n",
        "d = 'lee'\n",
        "e = 'hojun'\n",
        "f = True # 참과 거짓 - bool\n",
        "g = [1, 2, 3] # 리스트 - list\n",
        "h = (1, 2, 3) # 튜플 - tuple\n",
        "j = {1, 2, 3, 3, 3} # 셋 - 집합(합집합, 차집합....) - set\n",
        "i = {'one' : '하나', 'two' : '둘'} # 딕셔너리 - 사전 - dict"
      ],
      "execution_count": null,
      "outputs": []
    },
    {
      "cell_type": "code",
      "metadata": {
        "id": "y8dAm5x0PmPW"
      },
      "source": [
        "# 사칙연산\n",
        "print(a+b)\n",
        "print(a+b)\n",
        "#print(a+c) Error\n",
        "print(c+c)\n",
        "print(int(c) + int(c))\n",
        "print(d+e)"
      ],
      "execution_count": null,
      "outputs": []
    },
    {
      "cell_type": "code",
      "metadata": {
        "id": "aVuWng5PQ16c"
      },
      "source": [
        "print(type(a))\n",
        "print(dir(a))"
      ],
      "execution_count": null,
      "outputs": []
    },
    {
      "cell_type": "code",
      "metadata": {
        "id": "TlsdIELsQ1wb"
      },
      "source": [
        "a = 10\n",
        "b = 3\n",
        "print(a+b)\n",
        "print(a-b)\n",
        "print(a / b) # 실수 - float\n",
        "print(a // b) # 정수 - int\n",
        "print(a * b)\n",
        "print(a % b) #나머지\n",
        "print(a ** b) # 제곱\n"
      ],
      "execution_count": null,
      "outputs": []
    },
    {
      "cell_type": "code",
      "metadata": {
        "id": "25djmnD4P3ao"
      },
      "source": [
        "# 컴퓨터의 연산 오류\n",
        "print(0.1*3)"
      ],
      "execution_count": null,
      "outputs": []
    },
    {
      "cell_type": "code",
      "metadata": {
        "id": "lseTNsLySicu"
      },
      "source": [
        "# 논리연산\n",
        "a = True # 1\n",
        "b = False # 0\n",
        "print(a and b) # 곱\n",
        "print(a or b) # 합\n",
        "print(not b) # 부정"
      ],
      "execution_count": null,
      "outputs": []
    },
    {
      "cell_type": "code",
      "metadata": {
        "id": "2FKinh1gT3_j"
      },
      "source": [
        "for i in range(100):\n",
        "    if i % 3 == 0 and i%5 == 0: # and를 or로 바꿔보세요.\n",
        "        print(i)"
      ],
      "execution_count": null,
      "outputs": []
    },
    {
      "cell_type": "code",
      "metadata": {
        "id": "zjGZQRQrVEdD"
      },
      "source": [
        "# 비교연산\n",
        "a = 3\n",
        "b = 10\n",
        "\n",
        "print(a == b)\n",
        "print(a > b)\n",
        "print(a <= b)\n",
        "print(a < b)\n",
        "print(a <= b)\n",
        "print(a != b)\n"
      ],
      "execution_count": null,
      "outputs": []
    },
    {
      "cell_type": "code",
      "metadata": {
        "id": "m8wsM5R9Vasbf"
      },
      "source": [
        "# 함수\n",
        "a = 10\n",
        "b = 3\n",
        "def hojun() :\n",
        "    c = a + b\n",
        "    c = c * 10\n",
        "    print(c)\n",
        "hojun()\n",
        "hojun()\n",
        "hojun()\n",
        "hojun()\n",
        "hojun()\n"
      ],
      "execution_count": null,
      "outputs": []
    },
    {
      "cell_type": "code",
      "metadata": {
        "id": "P7aC9J0DWtp1"
      },
      "source": [
        "def circle(r):\n",
        "    width = r * r * 3.14\n",
        "    return width\n",
        "    \n",
        "print(circle(10))"
      ],
      "execution_count": null,
      "outputs": []
    },
    {
      "cell_type": "code",
      "metadata": {
        "id": "DmZx_kBCYMLE"
      },
      "source": [
        "def test():\n",
        "    print('1')\n",
        "    print('2')\n",
        "print('3')\n",
        "print('4')\n",
        "print('5')\n",
        "test()\n"
      ],
      "execution_count": null,
      "outputs": []
    },
    {
      "cell_type": "code",
      "metadata": {
        "id": "fmFZ0KE_azFs"
      },
      "source": [
        "# 반복문과 조건문\n",
        "\n",
        "for i in 'hello':\n",
        "    print(i)\n",
        "    print('!!')\n",
        "\n",
        "print('end')"
      ],
      "execution_count": null,
      "outputs": []
    },
    {
      "cell_type": "code",
      "metadata": {
        "id": "KY21TMWQbntA"
      },
      "source": [
        "for i in [10,20,30] : \n",
        "    print (i)\n"
      ],
      "execution_count": null,
      "outputs": []
    },
    {
      "cell_type": "code",
      "metadata": {
        "id": "lsfEMDvAb0ma"
      },
      "source": [
        "s = 0\n",
        "for i in range(101) : \n",
        "    s = s + i\n",
        "\n",
        "print(s)"
      ],
      "execution_count": null,
      "outputs": []
    },
    {
      "cell_type": "code",
      "metadata": {
        "id": "n_5VLWMZcND6"
      },
      "source": [
        "print(range(101)) # range(Start, Stop, Step) - Step은 생략가능\n",
        "print(list(range(10)))\n",
        "print(list(range(5, 10)))\n",
        "print(list(range(0, 10, 2)))\n",
        "print(list(range(10, 0, -1)))\n"
      ],
      "execution_count": null,
      "outputs": []
    },
    {
      "cell_type": "code",
      "metadata": {
        "id": "F6tQWMwcd-PR"
      },
      "source": [
        "x = 0\n",
        "while x < 10:\n",
        "    print(x)\n",
        "    x = x + 1"
      ],
      "execution_count": null,
      "outputs": []
    },
    {
      "cell_type": "code",
      "metadata": {
        "id": "RS5afm4geLOS"
      },
      "source": [
        "# 구구단 출력하기\n",
        "for i in range(2, 10):\n",
        "    for j in range(1, 10):\n",
        "        print(f'{i} X {j} = {i*j}')\n",
        "        print(i, 'X', j, '=', i*j)"
      ],
      "execution_count": null,
      "outputs": []
    },
    {
      "cell_type": "code",
      "metadata": {
        "id": "wggz_V-Wez2S"
      },
      "source": [
        "[f'{i} X {j} = {i*j}' for i in range(2, 10) for j in range(1, 10)]\n"
      ],
      "execution_count": null,
      "outputs": []
    },
    {
      "cell_type": "code",
      "metadata": {
        "id": "YDDP_aNyfINi"
      },
      "source": [
        "if True:\n",
        "    print('True!!')\n",
        "if False:\n",
        "    print('False!!')\n",
        "if True:\n",
        "    print('3!!')"
      ],
      "execution_count": null,
      "outputs": []
    },
    {
      "cell_type": "code",
      "metadata": {
        "id": "iAH4BDIGfLe3"
      },
      "source": [
        "score = 89\n",
        "money = 1000\n",
        "\n",
        "if score > 90:\n",
        "    print('mom : i\\m so happy')\n",
        "    money = money + 1000000\n",
        "elif score > 80:\n",
        "    print('mom : im  happy')\n",
        "    money = money + 100000\n",
        "elif score > 70:\n",
        "    print('mom : im ')\n",
        "    money = money + 10000\n",
        "else :\n",
        "    print('mom : ...')\n",
        "    money = money + 1000\n",
        "print(money)"
      ],
      "execution_count": null,
      "outputs": []
    },
    {
      "cell_type": "code",
      "metadata": {
        "id": "SpEqdH3LgrmK"
      },
      "source": [
        "s = 'paullab ceo leehojun'\n",
        "print(type(s))\n",
        "print(dir(s))\n",
        "#magin method __xx__ 속성\n",
        "#'capitalize', 'casefold', 'center', 'count', 'encode', 'endswith', 'expandtabs', 'find', 'format', 'format_map', 'index', 'isalnum', 'isalpha', 'isdecimal', 'isdigit', 'isidentifier', 'islower', 'isnumeric', 'isprintable', 'isspace', 'istitle', 'isupper', 'join', 'ljust', 'lower', 'lstrip', 'maketrans', 'partition', 'replace', 'rfind', 'rindex', 'rjust', 'rpartition', 'rsplit', 'rstrip', 'split', 'splitlines', 'startswith', 'strip', 'swapcase', 'title', 'translate', 'upper', 'zfill'\n"
      ],
      "execution_count": null,
      "outputs": []
    },
    {
      "cell_type": "code",
      "metadata": {
        "id": "_c3k7HQ5hnPL"
      },
      "source": [
        "s.upper()\n"
      ],
      "execution_count": null,
      "outputs": []
    },
    {
      "cell_type": "code",
      "metadata": {
        "id": "w0_EkigXh4xX"
      },
      "source": [
        "s.count('l')"
      ],
      "execution_count": null,
      "outputs": []
    },
    {
      "cell_type": "code",
      "metadata": {
        "id": "MP9U20Pfh6qn"
      },
      "source": [
        "s.find('c')"
      ],
      "execution_count": null,
      "outputs": []
    },
    {
      "cell_type": "code",
      "metadata": {
        "id": "bINwxSIEh8xg"
      },
      "source": [
        "s.replace('ceo', 'CTO')\n"
      ],
      "execution_count": null,
      "outputs": []
    },
    {
      "cell_type": "code",
      "metadata": {
        "id": "r7xbels2ixXP"
      },
      "source": [
        "print(str(list(range(10001))).count('8'))"
      ],
      "execution_count": null,
      "outputs": []
    },
    {
      "cell_type": "code",
      "metadata": {
        "id": "CgVdAf3sjDit"
      },
      "source": [
        "#리스트 (순서가 있고, 변환이 가능)\n",
        "l = [10,20,30]\n",
        "#튜플 (순서가 있고, 변환이 불가)\n",
        "t = (10,20,30)\n",
        "#딕셔너리 (순서가 없고, key와 value의 쌍으로 구성)\n",
        "d = {'one' : '하나', 'two' : '둘'}\n",
        "#셋\n",
        "s = {10, 10, 10, 20}"
      ],
      "execution_count": null,
      "outputs": []
    },
    {
      "cell_type": "code",
      "metadata": {
        "id": "vbj1PAcRjk6B"
      },
      "source": [
        "print(l[0])\n",
        "print(t[0])\n",
        "print(d['one'])\n",
        "print(s)"
      ],
      "execution_count": null,
      "outputs": []
    },
    {
      "cell_type": "code",
      "metadata": {
        "id": "aAxNdruAkBfg"
      },
      "source": [
        "print(type(l))\n",
        "print(dir(l))\n",
        "# list는 아주 중요하다 다 알아야함!!\n",
        "#'append', 'clear', 'copy', 'count', 'extend', 'index', 'insert', 'pop', 'remove', 'reverse', 'sort'\n",
        "# extend 여러개 추가할 때 append 한개 추가할때 insert 해당 자리에 추가!\n",
        "\n",
        "l.append(100000)\n",
        "print(l)"
      ],
      "execution_count": null,
      "outputs": []
    },
    {
      "cell_type": "code",
      "metadata": {
        "id": "jdQE6-T3krg3"
      },
      "source": [
        "#slicing\n",
        "s = 'paullab ceo leehojun'\n",
        "l = [10, 20, 30, 40, 50, 60]\n",
        "\n",
        "print(s[0:3]) #순서가_있는_자료형[Start:stop:step]\n",
        "print(l[0:3])"
      ],
      "execution_count": null,
      "outputs": []
    },
    {
      "cell_type": "code",
      "metadata": {
        "id": "HeGNkdvUlDkC"
      },
      "source": [
        "print(type(t))\n",
        "print(dir(t))\n",
        "#'count', 'index'\n"
      ],
      "execution_count": null,
      "outputs": []
    },
    {
      "cell_type": "code",
      "metadata": {
        "id": "GmPZBW32ntR-"
      },
      "source": [
        "import test as t\n",
        "\n",
        "print(t.age)\n",
        "print(t.name)"
      ],
      "execution_count": null,
      "outputs": []
    },
    {
      "cell_type": "code",
      "metadata": {
        "id": "caFOjB8DogYK"
      },
      "source": [
        "\n",
        "# 크롤링\n",
        "import requests\n",
        "from bs4 import BeautifulSoup\n",
        "\n",
        "url = 'https://ridibooks.com/category/free-books/2200?page=1'\n",
        "response = requests.get(url)\n",
        "response.encoding = 'utf-8'\n",
        "html = response.text\n",
        "\n",
        "soup = BeautifulSoup(html, 'html.parser')\n",
        "\n",
        "targetlist = soup.select('.title_text')     # col-lg-6 클래스 안의 h2 태그 탐색\n",
        "for no, target in enumerate(targetlist, 1):\n",
        "    print(no, target.text.strip())"
      ],
      "execution_count": null,
      "outputs": []
    },
    {
      "cell_type": "code",
      "metadata": {
        "id": "DEtN0UTGoi5D"
      },
      "source": [
        "# 크롤링\n",
        "import requests\n",
        "from bs4 import BeautifulSoup\n",
        "\n",
        "url = 'https://search.naver.com/search.naver?sm=tab_hty.top&where=nexearch&query=%EC%B5%9C%EC%8B%A0%EC%98%81%ED%99%94+%EC%88%9C%EC%9C%84&oquery=%EB%B0%94%EC%9A%B8%EB%9E%A9&tqi=hvMQ3wprvxZssuL4IasssssstoC-258660'\n",
        "response = requests.get(url)\n",
        "response.encoding = 'utf-8'\n",
        "html = response.text\n",
        "\n",
        "soup = BeautifulSoup(html, 'html.parser')\n",
        "\n",
        "targetlist = soup.select('.name')     # col-lg-6 클래스 안의 h2 태그 탐색\n",
        "for no, target in enumerate(targetlist, 1):\n",
        "    print(no, target.text.strip())"
      ],
      "execution_count": null,
      "outputs": []
    },
    {
      "cell_type": "markdown",
      "metadata": {
        "id": "ZoypYjuvsqi5"
      },
      "source": [
        "# 이미지분석"
      ]
    },
    {
      "cell_type": "code",
      "metadata": {
        "id": "vpgb1uP4q4BQ"
      },
      "source": [
        "import numpy as np\n",
        "from skimage import io\n",
        "import matplotlib.pyplot as plt"
      ],
      "execution_count": null,
      "outputs": []
    },
    {
      "cell_type": "code",
      "metadata": {
        "id": "zbDpe2NNsShW"
      },
      "source": [
        "jeju = io.imread('jeju.jpg')"
      ],
      "execution_count": null,
      "outputs": []
    },
    {
      "cell_type": "code",
      "metadata": {
        "id": "yx2DRFWetbpK"
      },
      "source": [
        "plt.imshow(jeju)"
      ],
      "execution_count": null,
      "outputs": []
    },
    {
      "cell_type": "code",
      "metadata": {
        "id": "b4oA_FsasS7n"
      },
      "source": [
        "plt.imshow(jeju[::-1])"
      ],
      "execution_count": null,
      "outputs": []
    },
    {
      "cell_type": "code",
      "metadata": {
        "id": "22HipsfwsdTK"
      },
      "source": [
        "jeju"
      ],
      "execution_count": null,
      "outputs": []
    },
    {
      "cell_type": "code",
      "metadata": {
        "id": "WfzdSYLds2Of"
      },
      "source": [
        "plt.imshow(jeju[800:1200, 750:1100])"
      ],
      "execution_count": null,
      "outputs": []
    },
    {
      "cell_type": "code",
      "metadata": {
        "id": "oUZHoyT3tqEc"
      },
      "source": [
        "plt.imshow(jeju[::10, ::10])"
      ],
      "execution_count": null,
      "outputs": []
    },
    {
      "cell_type": "code",
      "metadata": {
        "id": "fS8GyIRBtwcN"
      },
      "source": [
        "plt.imshow(jeju[::30, ::30])"
      ],
      "execution_count": null,
      "outputs": []
    },
    {
      "cell_type": "code",
      "metadata": {
        "id": "39F8dSMYt1pe"
      },
      "source": [
        "l = [10, 20, 30]\n",
        "sum(l)\n",
        "max(l)\n",
        "min(l)"
      ],
      "execution_count": null,
      "outputs": []
    },
    {
      "cell_type": "code",
      "metadata": {
        "id": "WiyoCLezu7Nh"
      },
      "source": [
        "class Car:\n",
        "    maxSpeed = 300\n",
        "    maxPeople = 5\n",
        "    def start(self):\n",
        "        print('start')\n",
        "    def stop(self):\n",
        "        print('stop')\n",
        "\n",
        "k5 = Car()\n",
        "k3 = Car()\n",
        "\n",
        "# 클래스는 무조건 인스턴스화 시켜서 사용한다. 직접 사용하지 않는다.\n",
        "k5.start()\n",
        "dir(k5)"
      ],
      "execution_count": null,
      "outputs": []
    },
    {
      "cell_type": "code",
      "metadata": {
        "id": "LGbjxYRSwXXr"
      },
      "source": [
        ""
      ],
      "execution_count": null,
      "outputs": []
    }
  ]
}